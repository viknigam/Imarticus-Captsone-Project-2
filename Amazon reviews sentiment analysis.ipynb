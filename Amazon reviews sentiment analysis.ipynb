{
 "cells": [
  {
   "cell_type": "markdown",
   "id": "19ec5f9d",
   "metadata": {},
   "source": [
    "# 1. Importing the libraries"
   ]
  },
  {
   "cell_type": "code",
   "execution_count": 1,
   "id": "71794949",
   "metadata": {},
   "outputs": [],
   "source": [
    "\n",
    "\n",
    "# Importing all the required libraries\n",
    "import numpy as np \n",
    "import pandas as pd \n",
    "import os\n",
    "import itertools\n",
    "\n",
    "#plots\n",
    "import matplotlib.pyplot as plt\n",
    "import plotly.express as px\n",
    "import plotly.graph_objects as go\n",
    "import plotly.figure_factory as ff\n",
    "from plotly.colors import n_colors\n",
    "from plotly.subplots import make_subplots\n",
    "\n",
    "#from wordcloud import WordCloud, STOPWORDS, ImageColorGenerator\n",
    "from sklearn.feature_extraction.text import CountVectorizer\n",
    "\n",
    "from sklearn.feature_extraction.text import CountVectorizer\n",
    "from sklearn.feature_extraction.text import TfidfVectorizer\n",
    "from collections import Counter\n",
    "from wordcloud import WordCloud\n",
    "\n",
    "from sklearn.model_selection import train_test_split\n",
    "from sklearn.linear_model import LogisticRegression\n",
    "from sklearn.ensemble import RandomForestClassifier\n",
    "from sklearn.metrics import accuracy_score\n",
    "from sklearn.metrics import f1_score\n",
    "from sklearn.metrics import classification_report\n",
    "\n",
    "from PIL import Image\n",
    "from nltk.corpus import stopwords\n",
    "stop=set(stopwords.words('english'))\n",
    "from nltk.util import ngrams\n",
    "\n",
    "\n",
    "import re\n",
    "from collections import Counter\n",
    "\n",
    "import nltk\n",
    "from nltk.corpus import stopwords\n",
    "\n",
    "import requests\n",
    "import json\n",
    "\n",
    "import seaborn as sns\n",
    "sns.set(rc={'figure.figsize':(11.7,8.27)})\n",
    "\n",
    "\n",
    "import tensorflow as tf\n",
    "from tensorflow.keras.preprocessing.sequence import pad_sequences\n",
    "from tensorflow.keras.layers import Embedding, LSTM, Dense, Bidirectional\n",
    "from tensorflow.keras.preprocessing.text import Tokenizer\n",
    "from tensorflow.keras.models import Sequential\n",
    "from tensorflow.keras.optimizers import Adam\n",
    "from tensorflow.keras.preprocessing.text import Tokenizer\n",
    "from tensorflow.keras.preprocessing.sequence import pad_sequences\n",
    "import numpy as np\n",
    "import pandas as pd\n",
    "import re\n",
    "import matplotlib.pyplot as plt\n",
    "\n",
    "\n"
   ]
  },
  {
   "cell_type": "markdown",
   "id": "0b5ee358",
   "metadata": {},
   "source": [
    "# 2. Loading the dataset"
   ]
  },
  {
   "cell_type": "code",
   "execution_count": 2,
   "id": "37ceec7e",
   "metadata": {},
   "outputs": [
    {
     "data": {
      "text/html": [
       "<div>\n",
       "<style scoped>\n",
       "    .dataframe tbody tr th:only-of-type {\n",
       "        vertical-align: middle;\n",
       "    }\n",
       "\n",
       "    .dataframe tbody tr th {\n",
       "        vertical-align: top;\n",
       "    }\n",
       "\n",
       "    .dataframe thead th {\n",
       "        text-align: right;\n",
       "    }\n",
       "</style>\n",
       "<table border=\"1\" class=\"dataframe\">\n",
       "  <thead>\n",
       "    <tr style=\"text-align: right;\">\n",
       "      <th></th>\n",
       "      <th>Id</th>\n",
       "      <th>ProductId</th>\n",
       "      <th>UserId</th>\n",
       "      <th>ProfileName</th>\n",
       "      <th>HelpfulnessNumerator</th>\n",
       "      <th>HelpfulnessDenominator</th>\n",
       "      <th>Score</th>\n",
       "      <th>Time</th>\n",
       "      <th>Summary</th>\n",
       "      <th>Text</th>\n",
       "    </tr>\n",
       "  </thead>\n",
       "  <tbody>\n",
       "    <tr>\n",
       "      <th>0</th>\n",
       "      <td>1</td>\n",
       "      <td>B001E4KFG0</td>\n",
       "      <td>A3SGXH7AUHU8GW</td>\n",
       "      <td>delmartian</td>\n",
       "      <td>1</td>\n",
       "      <td>1</td>\n",
       "      <td>5</td>\n",
       "      <td>1303862400</td>\n",
       "      <td>Good Quality Dog Food</td>\n",
       "      <td>I have bought several of the Vitality canned d...</td>\n",
       "    </tr>\n",
       "    <tr>\n",
       "      <th>1</th>\n",
       "      <td>2</td>\n",
       "      <td>B00813GRG4</td>\n",
       "      <td>A1D87F6ZCVE5NK</td>\n",
       "      <td>dll pa</td>\n",
       "      <td>0</td>\n",
       "      <td>0</td>\n",
       "      <td>1</td>\n",
       "      <td>1346976000</td>\n",
       "      <td>Not as Advertised</td>\n",
       "      <td>Product arrived labeled as Jumbo Salted Peanut...</td>\n",
       "    </tr>\n",
       "    <tr>\n",
       "      <th>2</th>\n",
       "      <td>3</td>\n",
       "      <td>B000LQOCH0</td>\n",
       "      <td>ABXLMWJIXXAIN</td>\n",
       "      <td>Natalia Corres \"Natalia Corres\"</td>\n",
       "      <td>1</td>\n",
       "      <td>1</td>\n",
       "      <td>4</td>\n",
       "      <td>1219017600</td>\n",
       "      <td>\"Delight\" says it all</td>\n",
       "      <td>This is a confection that has been around a fe...</td>\n",
       "    </tr>\n",
       "    <tr>\n",
       "      <th>3</th>\n",
       "      <td>4</td>\n",
       "      <td>B000UA0QIQ</td>\n",
       "      <td>A395BORC6FGVXV</td>\n",
       "      <td>Karl</td>\n",
       "      <td>3</td>\n",
       "      <td>3</td>\n",
       "      <td>2</td>\n",
       "      <td>1307923200</td>\n",
       "      <td>Cough Medicine</td>\n",
       "      <td>If you are looking for the secret ingredient i...</td>\n",
       "    </tr>\n",
       "    <tr>\n",
       "      <th>4</th>\n",
       "      <td>5</td>\n",
       "      <td>B006K2ZZ7K</td>\n",
       "      <td>A1UQRSCLF8GW1T</td>\n",
       "      <td>Michael D. Bigham \"M. Wassir\"</td>\n",
       "      <td>0</td>\n",
       "      <td>0</td>\n",
       "      <td>5</td>\n",
       "      <td>1350777600</td>\n",
       "      <td>Great taffy</td>\n",
       "      <td>Great taffy at a great price.  There was a wid...</td>\n",
       "    </tr>\n",
       "  </tbody>\n",
       "</table>\n",
       "</div>"
      ],
      "text/plain": [
       "   Id   ProductId          UserId                      ProfileName  \\\n",
       "0   1  B001E4KFG0  A3SGXH7AUHU8GW                       delmartian   \n",
       "1   2  B00813GRG4  A1D87F6ZCVE5NK                           dll pa   \n",
       "2   3  B000LQOCH0   ABXLMWJIXXAIN  Natalia Corres \"Natalia Corres\"   \n",
       "3   4  B000UA0QIQ  A395BORC6FGVXV                             Karl   \n",
       "4   5  B006K2ZZ7K  A1UQRSCLF8GW1T    Michael D. Bigham \"M. Wassir\"   \n",
       "\n",
       "   HelpfulnessNumerator  HelpfulnessDenominator  Score        Time  \\\n",
       "0                     1                       1      5  1303862400   \n",
       "1                     0                       0      1  1346976000   \n",
       "2                     1                       1      4  1219017600   \n",
       "3                     3                       3      2  1307923200   \n",
       "4                     0                       0      5  1350777600   \n",
       "\n",
       "                 Summary                                               Text  \n",
       "0  Good Quality Dog Food  I have bought several of the Vitality canned d...  \n",
       "1      Not as Advertised  Product arrived labeled as Jumbo Salted Peanut...  \n",
       "2  \"Delight\" says it all  This is a confection that has been around a fe...  \n",
       "3         Cough Medicine  If you are looking for the secret ingredient i...  \n",
       "4            Great taffy  Great taffy at a great price.  There was a wid...  "
      ]
     },
     "execution_count": 2,
     "metadata": {},
     "output_type": "execute_result"
    }
   ],
   "source": [
    "# Using the above names we can import the test and train data to start the EDA and Sentiment Analysis\n",
    "df = pd.read_csv('Reviews.csv')\n",
    "df.head()"
   ]
  },
  {
   "cell_type": "code",
   "execution_count": 3,
   "id": "24f6b821",
   "metadata": {},
   "outputs": [
    {
     "data": {
      "text/plain": [
       "(568454, 10)"
      ]
     },
     "execution_count": 3,
     "metadata": {},
     "output_type": "execute_result"
    }
   ],
   "source": [
    "df.shape"
   ]
  },
  {
   "cell_type": "markdown",
   "id": "1a296f4f",
   "metadata": {},
   "source": [
    "# 3. Data cleaning"
   ]
  },
  {
   "cell_type": "code",
   "execution_count": 4,
   "id": "c02d7a92",
   "metadata": {},
   "outputs": [
    {
     "name": "stdout",
     "output_type": "stream",
     "text": [
      "<class 'pandas.core.frame.DataFrame'>\n",
      "RangeIndex: 568454 entries, 0 to 568453\n",
      "Data columns (total 10 columns):\n",
      " #   Column                  Non-Null Count   Dtype \n",
      "---  ------                  --------------   ----- \n",
      " 0   Id                      568454 non-null  int64 \n",
      " 1   ProductId               568454 non-null  object\n",
      " 2   UserId                  568454 non-null  object\n",
      " 3   ProfileName             568438 non-null  object\n",
      " 4   HelpfulnessNumerator    568454 non-null  int64 \n",
      " 5   HelpfulnessDenominator  568454 non-null  int64 \n",
      " 6   Score                   568454 non-null  int64 \n",
      " 7   Time                    568454 non-null  int64 \n",
      " 8   Summary                 568427 non-null  object\n",
      " 9   Text                    568454 non-null  object\n",
      "dtypes: int64(5), object(5)\n",
      "memory usage: 43.4+ MB\n"
     ]
    }
   ],
   "source": [
    "# checking the shape of the train and test datasets\n",
    "df.info()"
   ]
  },
  {
   "cell_type": "code",
   "execution_count": 5,
   "id": "0ea5742c",
   "metadata": {},
   "outputs": [
    {
     "data": {
      "text/plain": [
       "Id                         0\n",
       "ProductId                  0\n",
       "UserId                     0\n",
       "ProfileName               16\n",
       "HelpfulnessNumerator       0\n",
       "HelpfulnessDenominator     0\n",
       "Score                      0\n",
       "Time                       0\n",
       "Summary                   27\n",
       "Text                       0\n",
       "dtype: int64"
      ]
     },
     "execution_count": 5,
     "metadata": {},
     "output_type": "execute_result"
    }
   ],
   "source": [
    "# checking null values in train and test data\n",
    "\n",
    "df.isna().sum()"
   ]
  },
  {
   "cell_type": "code",
   "execution_count": 6,
   "id": "b4244ea1",
   "metadata": {},
   "outputs": [],
   "source": [
    "# dropping null values in train and test data\n",
    "\n",
    "df = df.dropna()"
   ]
  },
  {
   "cell_type": "code",
   "execution_count": 7,
   "id": "2c182c0b",
   "metadata": {},
   "outputs": [
    {
     "data": {
      "text/plain": [
       "Id                        0\n",
       "ProductId                 0\n",
       "UserId                    0\n",
       "ProfileName               0\n",
       "HelpfulnessNumerator      0\n",
       "HelpfulnessDenominator    0\n",
       "Score                     0\n",
       "Time                      0\n",
       "Summary                   0\n",
       "Text                      0\n",
       "dtype: int64"
      ]
     },
     "execution_count": 7,
     "metadata": {},
     "output_type": "execute_result"
    }
   ],
   "source": [
    "df.isna().sum()"
   ]
  },
  {
   "cell_type": "code",
   "execution_count": 8,
   "id": "d40ec659",
   "metadata": {},
   "outputs": [
    {
     "data": {
      "text/plain": [
       "0"
      ]
     },
     "execution_count": 8,
     "metadata": {},
     "output_type": "execute_result"
    }
   ],
   "source": [
    "# checking for duplicates\n",
    "df.duplicated().sum()"
   ]
  },
  {
   "cell_type": "markdown",
   "id": "4fdc8498",
   "metadata": {},
   "source": [
    "# 4. Exploratory Data Analysis"
   ]
  },
  {
   "cell_type": "code",
   "execution_count": 9,
   "id": "b626a80f",
   "metadata": {},
   "outputs": [
    {
     "data": {
      "text/plain": [
       "5    363111\n",
       "4     80655\n",
       "1     52264\n",
       "3     42638\n",
       "2     29743\n",
       "Name: Score, dtype: int64"
      ]
     },
     "execution_count": 9,
     "metadata": {},
     "output_type": "execute_result"
    }
   ],
   "source": [
    "#Checking the spread of sentiment data\n",
    "df.Score.value_counts()"
   ]
  },
  {
   "cell_type": "code",
   "execution_count": 10,
   "id": "8eaae8ea",
   "metadata": {},
   "outputs": [
    {
     "data": {
      "text/plain": [
       "5    63.881769\n",
       "4    14.189557\n",
       "1     9.194755\n",
       "3     7.501262\n",
       "2     5.232657\n",
       "Name: Score, dtype: float64"
      ]
     },
     "execution_count": 10,
     "metadata": {},
     "output_type": "execute_result"
    }
   ],
   "source": [
    "# checking the spread of sentiment data in  the dataset \n",
    "\n",
    "rating_pct = df['Score'].value_counts()/len(df) * 100\n",
    "rating_pct"
   ]
  },
  {
   "cell_type": "code",
   "execution_count": 11,
   "id": "1ad2cb7d",
   "metadata": {},
   "outputs": [
    {
     "name": "stderr",
     "output_type": "stream",
     "text": [
      "C:\\Users\\Anshavik\\anaconda3\\lib\\site-packages\\seaborn\\_decorators.py:36: FutureWarning: Pass the following variable as a keyword arg: x. From version 0.12, the only valid positional argument will be `data`, and passing other arguments without an explicit keyword will result in an error or misinterpretation.\n",
      "  warnings.warn(\n"
     ]
    },
    {
     "data": {
      "text/plain": [
       "Text(0.5, 1.0, 'Countplot for Score')"
      ]
     },
     "execution_count": 11,
     "metadata": {},
     "output_type": "execute_result"
    },
    {
     "data": {
      "image/png": "[encoded data removed]",
      "text/plain": [
       "<Figure size 842.4x595.44 with 1 Axes>"
      ]
     },
     "metadata": {},
     "output_type": "display_data"
    }
   ],
   "source": [
    "sns.countplot(df.Score, palette='mako')\n",
    "plt.title('Countplot for Score')"
   ]
  },
  {
   "cell_type": "code",
   "execution_count": 12,
   "id": "3ee30e41",
   "metadata": {},
   "outputs": [
    {
     "data": {
      "image/png": "[encoded data removed]",
      "text/plain": [
       "<Figure size 1008x432 with 1 Axes>"
      ]
     },
     "metadata": {},
     "output_type": "display_data"
    }
   ],
   "source": [
    "#words per review\n",
    "plt.figure(figsize = (14,6))\n",
    "WordsPerReview = df['Text'].apply(lambda x: len(x.split(' ')))\n",
    "\n",
    "sns.histplot(WordsPerReview,bins = 100)\n",
    "\n",
    "plt.xlabel('Review Length')\n",
    "plt.show()"
   ]
  },
  {
   "cell_type": "markdown",
   "id": "74c6127a",
   "metadata": {},
   "source": [
    "### Creating a wordcloud to check the words in the reviews"
   ]
  },
  {
   "cell_type": "code",
   "execution_count": 13,
   "id": "6cd75a01",
   "metadata": {},
   "outputs": [
    {
     "data": {
      "image/png": "[encoded data removed]",
      "text/plain": [
       "<Figure size 842.4x595.44 with 1 Axes>"
      ]
     },
     "metadata": {},
     "output_type": "display_data"
    }
   ],
   "source": [
    "txt = ' '.join(review for review in df.Text)\n",
    "\n",
    "wordcloud = WordCloud(\n",
    "            background_color = 'white',\n",
    "            max_font_size = 100,\n",
    "            max_words = 100,\n",
    "            width = 800,\n",
    "            height = 500\n",
    "            ).generate(txt)\n",
    "\n",
    "\n",
    "plt.imshow(wordcloud,interpolation = 'bilinear')\n",
    "plt.axis('off')\n",
    "plt.show()"
   ]
  },
  {
   "cell_type": "markdown",
   "id": "c1c4cab1",
   "metadata": {},
   "source": [
    "# 5. Processing data for NLP analysis"
   ]
  },
  {
   "cell_type": "code",
   "execution_count": 14,
   "id": "cc991b30",
   "metadata": {},
   "outputs": [],
   "source": [
    "df = pd.DataFrame(df,columns = ['Score','Text','Id'])\n",
    "df.rename(columns = {'Score':'Rating','Text':'Review','Id':'Id'},inplace = True)"
   ]
  },
  {
   "cell_type": "code",
   "execution_count": 15,
   "id": "79f5bc3a",
   "metadata": {},
   "outputs": [],
   "source": [
    "def apply_sentiment(Rating):\n",
    "    if(Rating <=2 ):\n",
    "        return 0\n",
    "    else:\n",
    "        return 1"
   ]
  },
  {
   "cell_type": "code",
   "execution_count": 16,
   "id": "b9766b83",
   "metadata": {},
   "outputs": [],
   "source": [
    "df['Sentiment'] = df['Rating'].apply(apply_sentiment)\n",
    "df.drop(['Rating'],axis = 1, inplace = True)"
   ]
  },
  {
   "cell_type": "code",
   "execution_count": 17,
   "id": "110613dc",
   "metadata": {},
   "outputs": [
    {
     "data": {
      "text/plain": [
       "1    486404\n",
       "0     82007\n",
       "Name: Sentiment, dtype: int64"
      ]
     },
     "execution_count": 17,
     "metadata": {},
     "output_type": "execute_result"
    }
   ],
   "source": [
    "sentiment = df['Sentiment'].value_counts()\n",
    "sentiment"
   ]
  },
  {
   "cell_type": "code",
   "execution_count": 18,
   "id": "a88bfd36",
   "metadata": {},
   "outputs": [
    {
     "data": {
      "image/png": "[encoded data removed]",
      "text/plain": [
       "<Figure size 720x576 with 1 Axes>"
      ]
     },
     "metadata": {},
     "output_type": "display_data"
    }
   ],
   "source": [
    "plt.figure(figsize = ( 10,8))\n",
    "sns.countplot(data = df, x = 'Sentiment')\n",
    "plt.show()"
   ]
  },
  {
   "cell_type": "code",
   "execution_count": 19,
   "id": "301402df",
   "metadata": {},
   "outputs": [
    {
     "name": "stdout",
     "output_type": "stream",
     "text": [
      "<class 'pandas.core.frame.DataFrame'>\n",
      "Int64Index: 568411 entries, 0 to 568453\n",
      "Data columns (total 3 columns):\n",
      " #   Column     Non-Null Count   Dtype \n",
      "---  ------     --------------   ----- \n",
      " 0   Review     568411 non-null  object\n",
      " 1   Id         568411 non-null  int64 \n",
      " 2   Sentiment  568411 non-null  int64 \n",
      "dtypes: int64(2), object(1)\n",
      "memory usage: 33.5+ MB\n"
     ]
    }
   ],
   "source": [
    "df.info()"
   ]
  },
  {
   "cell_type": "markdown",
   "id": "ab479024",
   "metadata": {},
   "source": [
    "# 6. Applying nltk sentiment analysis to the dataset"
   ]
  },
  {
   "cell_type": "code",
   "execution_count": 21,
   "id": "3911de1f",
   "metadata": {},
   "outputs": [],
   "source": [
    "import nltk"
   ]
  },
  {
   "cell_type": "code",
   "execution_count": 22,
   "id": "b6e28a68",
   "metadata": {},
   "outputs": [
    {
     "name": "stderr",
     "output_type": "stream",
     "text": [
      "[nltk_data] Downloading package vader_lexicon to\n",
      "[nltk_data]     C:\\Users\\Anshavik\\AppData\\Roaming\\nltk_data...\n",
      "[nltk_data]   Package vader_lexicon is already up-to-date!\n"
     ]
    },
    {
     "data": {
      "text/plain": [
       "True"
      ]
     },
     "execution_count": 22,
     "metadata": {},
     "output_type": "execute_result"
    }
   ],
   "source": [
    "nltk.download('vader_lexicon')"
   ]
  },
  {
   "cell_type": "code",
   "execution_count": 23,
   "id": "9ef3bf48",
   "metadata": {},
   "outputs": [],
   "source": [
    "from nltk.sentiment.vader import SentimentIntensityAnalyzer"
   ]
  },
  {
   "cell_type": "code",
   "execution_count": 24,
   "id": "5f01faa0",
   "metadata": {},
   "outputs": [],
   "source": [
    "sid = SentimentIntensityAnalyzer()"
   ]
  },
  {
   "cell_type": "code",
   "execution_count": 26,
   "id": "150f3429",
   "metadata": {},
   "outputs": [],
   "source": [
    "X = df.drop('Sentiment',axis=1)\n",
    "y = df.Sentiment"
   ]
  },
  {
   "cell_type": "code",
   "execution_count": 27,
   "id": "5d53e2d0",
   "metadata": {},
   "outputs": [],
   "source": [
    "from sklearn.model_selection import train_test_split\n",
    "X_train, X_test, y_train, y_test = train_test_split(X,y,test_size=0.3,random_state=0,stratify=y)"
   ]
  },
  {
   "cell_type": "code",
   "execution_count": 28,
   "id": "bfa41510",
   "metadata": {},
   "outputs": [],
   "source": [
    "X_test_nlp = X_test"
   ]
  },
  {
   "cell_type": "code",
   "execution_count": 29,
   "id": "84abbd11",
   "metadata": {},
   "outputs": [],
   "source": [
    "X_test_nlp['scores'] = X_test_nlp['Review'].apply(lambda x: sid.polarity_scores(x))"
   ]
  },
  {
   "cell_type": "code",
   "execution_count": 30,
   "id": "6baa309c",
   "metadata": {},
   "outputs": [
    {
     "data": {
      "text/html": [
       "<div>\n",
       "<style scoped>\n",
       "    .dataframe tbody tr th:only-of-type {\n",
       "        vertical-align: middle;\n",
       "    }\n",
       "\n",
       "    .dataframe tbody tr th {\n",
       "        vertical-align: top;\n",
       "    }\n",
       "\n",
       "    .dataframe thead th {\n",
       "        text-align: right;\n",
       "    }\n",
       "</style>\n",
       "<table border=\"1\" class=\"dataframe\">\n",
       "  <thead>\n",
       "    <tr style=\"text-align: right;\">\n",
       "      <th></th>\n",
       "      <th>Review</th>\n",
       "      <th>Id</th>\n",
       "      <th>scores</th>\n",
       "    </tr>\n",
       "  </thead>\n",
       "  <tbody>\n",
       "    <tr>\n",
       "      <th>511467</th>\n",
       "      <td>I First bought when I got my cat, then she lea...</td>\n",
       "      <td>511468</td>\n",
       "      <td>{'neg': 0.079, 'neu': 0.748, 'pos': 0.173, 'co...</td>\n",
       "    </tr>\n",
       "  </tbody>\n",
       "</table>\n",
       "</div>"
      ],
      "text/plain": [
       "                                                   Review      Id  \\\n",
       "511467  I First bought when I got my cat, then she lea...  511468   \n",
       "\n",
       "                                                   scores  \n",
       "511467  {'neg': 0.079, 'neu': 0.748, 'pos': 0.173, 'co...  "
      ]
     },
     "execution_count": 30,
     "metadata": {},
     "output_type": "execute_result"
    }
   ],
   "source": [
    "X_test_nlp.head(1)"
   ]
  },
  {
   "cell_type": "code",
   "execution_count": 31,
   "id": "8a76e741",
   "metadata": {},
   "outputs": [],
   "source": [
    "X_test_nlp['compound'] = X_test_nlp['scores'].apply(lambda d: d['compound'])"
   ]
  },
  {
   "cell_type": "code",
   "execution_count": 33,
   "id": "cf2d1889",
   "metadata": {
    "scrolled": true
   },
   "outputs": [
    {
     "data": {
      "text/html": [
       "<div>\n",
       "<style scoped>\n",
       "    .dataframe tbody tr th:only-of-type {\n",
       "        vertical-align: middle;\n",
       "    }\n",
       "\n",
       "    .dataframe tbody tr th {\n",
       "        vertical-align: top;\n",
       "    }\n",
       "\n",
       "    .dataframe thead th {\n",
       "        text-align: right;\n",
       "    }\n",
       "</style>\n",
       "<table border=\"1\" class=\"dataframe\">\n",
       "  <thead>\n",
       "    <tr style=\"text-align: right;\">\n",
       "      <th></th>\n",
       "      <th>Review</th>\n",
       "      <th>Id</th>\n",
       "      <th>scores</th>\n",
       "      <th>compound</th>\n",
       "    </tr>\n",
       "  </thead>\n",
       "  <tbody>\n",
       "    <tr>\n",
       "      <th>511467</th>\n",
       "      <td>I First bought when I got my cat, then she lea...</td>\n",
       "      <td>511468</td>\n",
       "      <td>{'neg': 0.079, 'neu': 0.748, 'pos': 0.173, 'co...</td>\n",
       "      <td>0.8708</td>\n",
       "    </tr>\n",
       "    <tr>\n",
       "      <th>153511</th>\n",
       "      <td>My little girl Dasiey (dog) loves this treats....</td>\n",
       "      <td>153512</td>\n",
       "      <td>{'neg': 0.0, 'neu': 0.792, 'pos': 0.208, 'comp...</td>\n",
       "      <td>0.9349</td>\n",
       "    </tr>\n",
       "    <tr>\n",
       "      <th>222482</th>\n",
       "      <td>This is a great way to get a quick iced tea-li...</td>\n",
       "      <td>222483</td>\n",
       "      <td>{'neg': 0.0, 'neu': 0.843, 'pos': 0.157, 'comp...</td>\n",
       "      <td>0.8999</td>\n",
       "    </tr>\n",
       "    <tr>\n",
       "      <th>491530</th>\n",
       "      <td>Let it be known that I love sunflower seeds.  ...</td>\n",
       "      <td>491531</td>\n",
       "      <td>{'neg': 0.043, 'neu': 0.867, 'pos': 0.09, 'com...</td>\n",
       "      <td>0.8106</td>\n",
       "    </tr>\n",
       "    <tr>\n",
       "      <th>199288</th>\n",
       "      <td>Bolder ginger taste would earn a five stars ha...</td>\n",
       "      <td>199289</td>\n",
       "      <td>{'neg': 0.0, 'neu': 0.914, 'pos': 0.086, 'comp...</td>\n",
       "      <td>0.1531</td>\n",
       "    </tr>\n",
       "  </tbody>\n",
       "</table>\n",
       "</div>"
      ],
      "text/plain": [
       "                                                   Review      Id  \\\n",
       "511467  I First bought when I got my cat, then she lea...  511468   \n",
       "153511  My little girl Dasiey (dog) loves this treats....  153512   \n",
       "222482  This is a great way to get a quick iced tea-li...  222483   \n",
       "491530  Let it be known that I love sunflower seeds.  ...  491531   \n",
       "199288  Bolder ginger taste would earn a five stars ha...  199289   \n",
       "\n",
       "                                                   scores  compound  \n",
       "511467  {'neg': 0.079, 'neu': 0.748, 'pos': 0.173, 'co...    0.8708  \n",
       "153511  {'neg': 0.0, 'neu': 0.792, 'pos': 0.208, 'comp...    0.9349  \n",
       "222482  {'neg': 0.0, 'neu': 0.843, 'pos': 0.157, 'comp...    0.8999  \n",
       "491530  {'neg': 0.043, 'neu': 0.867, 'pos': 0.09, 'com...    0.8106  \n",
       "199288  {'neg': 0.0, 'neu': 0.914, 'pos': 0.086, 'comp...    0.1531  "
      ]
     },
     "execution_count": 33,
     "metadata": {},
     "output_type": "execute_result"
    }
   ],
   "source": [
    "X_test_nlp.head()"
   ]
  },
  {
   "cell_type": "code",
   "execution_count": 34,
   "id": "141a570f",
   "metadata": {},
   "outputs": [],
   "source": [
    "X_test_nlp['comp_score'] = X_test_nlp['compound'].apply(lambda score: 1 if score>=0 else 0)"
   ]
  },
  {
   "cell_type": "code",
   "execution_count": 35,
   "id": "87fc70a2",
   "metadata": {},
   "outputs": [],
   "source": [
    "predict_nlp = X_test_nlp['comp_score']"
   ]
  },
  {
   "cell_type": "code",
   "execution_count": 36,
   "id": "4e2f51ac",
   "metadata": {},
   "outputs": [
    {
     "data": {
      "text/plain": [
       "511467    1\n",
       "153511    1\n",
       "222482    1\n",
       "491530    1\n",
       "199288    1\n",
       "Name: comp_score, dtype: int64"
      ]
     },
     "execution_count": 36,
     "metadata": {},
     "output_type": "execute_result"
    }
   ],
   "source": [
    "predict_nlp[:5]"
   ]
  },
  {
   "cell_type": "code",
   "execution_count": 37,
   "id": "3d0811cb",
   "metadata": {},
   "outputs": [
    {
     "data": {
      "text/plain": [
       "511467    1\n",
       "153511    1\n",
       "222482    1\n",
       "491530    0\n",
       "199288    1\n",
       "Name: Sentiment, dtype: int64"
      ]
     },
     "execution_count": 37,
     "metadata": {},
     "output_type": "execute_result"
    }
   ],
   "source": [
    "y_test[:5]"
   ]
  },
  {
   "cell_type": "code",
   "execution_count": 38,
   "id": "25087667",
   "metadata": {},
   "outputs": [
    {
     "name": "stdout",
     "output_type": "stream",
     "text": [
      "Classification report: \n",
      "               precision    recall  f1-score   support\n",
      "\n",
      "           0       0.55      0.41      0.47     24602\n",
      "           1       0.91      0.94      0.92    145922\n",
      "\n",
      "    accuracy                           0.87    170524\n",
      "   macro avg       0.73      0.68      0.70    170524\n",
      "weighted avg       0.85      0.87      0.86    170524\n",
      "\n"
     ]
    }
   ],
   "source": [
    "print('Classification report: \\n',classification_report(y_test,predict_nlp))"
   ]
  },
  {
   "cell_type": "markdown",
   "id": "7db7b7a5",
   "metadata": {},
   "source": [
    "## As we can see that the above dataset is highly imbalanced. We have got a high accuracy of 87% but the other metrics like precision, recall and f1-score for the negative sentiment class are very less. \n",
    "## Now let us balance the dataset to see if this improves the overall model. "
   ]
  },
  {
   "cell_type": "markdown",
   "id": "c956d376",
   "metadata": {},
   "source": [
    "# 7. Balancing the dataset by using imblearn"
   ]
  },
  {
   "cell_type": "code",
   "execution_count": 39,
   "id": "1b08155d",
   "metadata": {},
   "outputs": [],
   "source": [
    "# import library\n",
    "import imblearn\n",
    "from imblearn.under_sampling import RandomUnderSampler\n",
    "from imblearn.over_sampling import SMOTE"
   ]
  },
  {
   "cell_type": "code",
   "execution_count": 40,
   "id": "6b74e3d7",
   "metadata": {},
   "outputs": [
    {
     "name": "stdout",
     "output_type": "stream",
     "text": [
      "original dataset shape: Counter({1: 486404, 0: 82007})\n",
      "Resample dataset shape Counter({0: 82007, 1: 82007})\n",
      "original dataset shape: Counter({'Review': 1, 'Id': 1})\n",
      "Resample dataset shape Counter({'Review': 1, 'Id': 1})\n"
     ]
    }
   ],
   "source": [
    "# trying under sampling first\n",
    "rus = RandomUnderSampler(random_state=42, replacement=True)# fit predictor and target variable\n",
    "x_rus, y_rus = rus.fit_resample(X, y)\n",
    "\n",
    "print('original dataset shape:', Counter(y))\n",
    "print('Resample dataset shape', Counter(y_rus))\n",
    "print('original dataset shape:', Counter(X))\n",
    "print('Resample dataset shape', Counter(x_rus))"
   ]
  },
  {
   "cell_type": "code",
   "execution_count": 41,
   "id": "0fb19df5",
   "metadata": {},
   "outputs": [
    {
     "data": {
      "text/plain": [
       "(164014, 2)"
      ]
     },
     "execution_count": 41,
     "metadata": {},
     "output_type": "execute_result"
    }
   ],
   "source": [
    "x_rus.shape"
   ]
  },
  {
   "cell_type": "code",
   "execution_count": 44,
   "id": "0f848758",
   "metadata": {},
   "outputs": [
    {
     "data": {
      "text/plain": [
       "0    82007\n",
       "1    82007\n",
       "Name: Sentiment, dtype: int64"
      ]
     },
     "execution_count": 44,
     "metadata": {},
     "output_type": "execute_result"
    }
   ],
   "source": [
    "y_rus.value_counts()"
   ]
  },
  {
   "cell_type": "code",
   "execution_count": null,
   "id": "7321c546",
   "metadata": {},
   "outputs": [],
   "source": []
  },
  {
   "cell_type": "markdown",
   "id": "e82c8238",
   "metadata": {},
   "source": [
    "# 8. re applying the nltk sentiment analysis to the balanced dataset if it improves the accuracy"
   ]
  },
  {
   "cell_type": "code",
   "execution_count": 51,
   "id": "a7b7c9f9",
   "metadata": {},
   "outputs": [],
   "source": [
    "from sklearn.model_selection import train_test_split\n",
    "X_train, X_test, y_train, y_test = train_test_split(x_rus,y_rus,test_size=0.25,random_state=0,stratify=y_rus)"
   ]
  },
  {
   "cell_type": "code",
   "execution_count": 52,
   "id": "4c214d7b",
   "metadata": {},
   "outputs": [],
   "source": [
    "X_test_nlp = X_test"
   ]
  },
  {
   "cell_type": "code",
   "execution_count": 53,
   "id": "6003a1ea",
   "metadata": {},
   "outputs": [
    {
     "data": {
      "text/plain": [
       "145207    why are they trying to charge people   times t...\n",
       "39943     just bought this product for the first time an...\n",
       "74181     reminds me of weak diner coffee   has a slight...\n",
       "99827     chana dal is one of the most healthful legumes...\n",
       "87946     china mist tea is so refreshing iced  the mix ...\n",
       "Name: Review, dtype: object"
      ]
     },
     "execution_count": 53,
     "metadata": {},
     "output_type": "execute_result"
    }
   ],
   "source": [
    "X_test['Review'].head()"
   ]
  },
  {
   "cell_type": "code",
   "execution_count": 54,
   "id": "8d0d950d",
   "metadata": {},
   "outputs": [],
   "source": [
    "X_test_nlp['scores'] = X_test_nlp['Review'].apply(lambda x: sid.polarity_scores(x))"
   ]
  },
  {
   "cell_type": "code",
   "execution_count": 55,
   "id": "57f2055c",
   "metadata": {},
   "outputs": [
    {
     "data": {
      "text/html": [
       "<div>\n",
       "<style scoped>\n",
       "    .dataframe tbody tr th:only-of-type {\n",
       "        vertical-align: middle;\n",
       "    }\n",
       "\n",
       "    .dataframe tbody tr th {\n",
       "        vertical-align: top;\n",
       "    }\n",
       "\n",
       "    .dataframe thead th {\n",
       "        text-align: right;\n",
       "    }\n",
       "</style>\n",
       "<table border=\"1\" class=\"dataframe\">\n",
       "  <thead>\n",
       "    <tr style=\"text-align: right;\">\n",
       "      <th></th>\n",
       "      <th>Review</th>\n",
       "      <th>Id</th>\n",
       "      <th>scores</th>\n",
       "    </tr>\n",
       "  </thead>\n",
       "  <tbody>\n",
       "    <tr>\n",
       "      <th>145207</th>\n",
       "      <td>why are they trying to charge people   times t...</td>\n",
       "      <td>221727</td>\n",
       "      <td>{'neg': 0.053, 'neu': 0.911, 'pos': 0.036, 'co...</td>\n",
       "    </tr>\n",
       "  </tbody>\n",
       "</table>\n",
       "</div>"
      ],
      "text/plain": [
       "                                                   Review      Id  \\\n",
       "145207  why are they trying to charge people   times t...  221727   \n",
       "\n",
       "                                                   scores  \n",
       "145207  {'neg': 0.053, 'neu': 0.911, 'pos': 0.036, 'co...  "
      ]
     },
     "execution_count": 55,
     "metadata": {},
     "output_type": "execute_result"
    }
   ],
   "source": [
    "X_test_nlp.head(1)"
   ]
  },
  {
   "cell_type": "code",
   "execution_count": 56,
   "id": "2e1be1aa",
   "metadata": {},
   "outputs": [],
   "source": [
    "X_test_nlp['compound'] = X_test_nlp['scores'].apply(lambda d: d['compound'])"
   ]
  },
  {
   "cell_type": "code",
   "execution_count": 57,
   "id": "d9064c38",
   "metadata": {},
   "outputs": [
    {
     "data": {
      "text/html": [
       "<div>\n",
       "<style scoped>\n",
       "    .dataframe tbody tr th:only-of-type {\n",
       "        vertical-align: middle;\n",
       "    }\n",
       "\n",
       "    .dataframe tbody tr th {\n",
       "        vertical-align: top;\n",
       "    }\n",
       "\n",
       "    .dataframe thead th {\n",
       "        text-align: right;\n",
       "    }\n",
       "</style>\n",
       "<table border=\"1\" class=\"dataframe\">\n",
       "  <thead>\n",
       "    <tr style=\"text-align: right;\">\n",
       "      <th></th>\n",
       "      <th>Review</th>\n",
       "      <th>Id</th>\n",
       "      <th>scores</th>\n",
       "      <th>compound</th>\n",
       "    </tr>\n",
       "  </thead>\n",
       "  <tbody>\n",
       "    <tr>\n",
       "      <th>145207</th>\n",
       "      <td>why are they trying to charge people   times t...</td>\n",
       "      <td>221727</td>\n",
       "      <td>{'neg': 0.053, 'neu': 0.911, 'pos': 0.036, 'co...</td>\n",
       "      <td>-0.2023</td>\n",
       "    </tr>\n",
       "    <tr>\n",
       "      <th>39943</th>\n",
       "      <td>just bought this product for the first time an...</td>\n",
       "      <td>274831</td>\n",
       "      <td>{'neg': 0.094, 'neu': 0.786, 'pos': 0.12, 'com...</td>\n",
       "      <td>0.4195</td>\n",
       "    </tr>\n",
       "    <tr>\n",
       "      <th>74181</th>\n",
       "      <td>reminds me of weak diner coffee   has a slight...</td>\n",
       "      <td>510741</td>\n",
       "      <td>{'neg': 0.183, 'neu': 0.817, 'pos': 0.0, 'comp...</td>\n",
       "      <td>-0.6810</td>\n",
       "    </tr>\n",
       "    <tr>\n",
       "      <th>99827</th>\n",
       "      <td>chana dal is one of the most healthful legumes...</td>\n",
       "      <td>230829</td>\n",
       "      <td>{'neg': 0.05, 'neu': 0.894, 'pos': 0.056, 'com...</td>\n",
       "      <td>0.0790</td>\n",
       "    </tr>\n",
       "    <tr>\n",
       "      <th>87946</th>\n",
       "      <td>china mist tea is so refreshing iced  the mix ...</td>\n",
       "      <td>325963</td>\n",
       "      <td>{'neg': 0.0, 'neu': 0.795, 'pos': 0.205, 'comp...</td>\n",
       "      <td>0.8834</td>\n",
       "    </tr>\n",
       "  </tbody>\n",
       "</table>\n",
       "</div>"
      ],
      "text/plain": [
       "                                                   Review      Id  \\\n",
       "145207  why are they trying to charge people   times t...  221727   \n",
       "39943   just bought this product for the first time an...  274831   \n",
       "74181   reminds me of weak diner coffee   has a slight...  510741   \n",
       "99827   chana dal is one of the most healthful legumes...  230829   \n",
       "87946   china mist tea is so refreshing iced  the mix ...  325963   \n",
       "\n",
       "                                                   scores  compound  \n",
       "145207  {'neg': 0.053, 'neu': 0.911, 'pos': 0.036, 'co...   -0.2023  \n",
       "39943   {'neg': 0.094, 'neu': 0.786, 'pos': 0.12, 'com...    0.4195  \n",
       "74181   {'neg': 0.183, 'neu': 0.817, 'pos': 0.0, 'comp...   -0.6810  \n",
       "99827   {'neg': 0.05, 'neu': 0.894, 'pos': 0.056, 'com...    0.0790  \n",
       "87946   {'neg': 0.0, 'neu': 0.795, 'pos': 0.205, 'comp...    0.8834  "
      ]
     },
     "execution_count": 57,
     "metadata": {},
     "output_type": "execute_result"
    }
   ],
   "source": [
    "X_test_nlp.head()"
   ]
  },
  {
   "cell_type": "code",
   "execution_count": 58,
   "id": "8dc23294",
   "metadata": {},
   "outputs": [],
   "source": [
    "X_test_nlp['comp_score'] = X_test_nlp['compound'].apply(lambda score: 1 if score>=0 else 0)"
   ]
  },
  {
   "cell_type": "code",
   "execution_count": 59,
   "id": "409cde34",
   "metadata": {},
   "outputs": [],
   "source": [
    "predict_nlp = X_test_nlp['comp_score']"
   ]
  },
  {
   "cell_type": "code",
   "execution_count": 60,
   "id": "5d84e4e0",
   "metadata": {},
   "outputs": [
    {
     "data": {
      "text/plain": [
       "145207    0\n",
       "39943     1\n",
       "74181     0\n",
       "99827     1\n",
       "87946     1\n",
       "Name: comp_score, dtype: int64"
      ]
     },
     "execution_count": 60,
     "metadata": {},
     "output_type": "execute_result"
    }
   ],
   "source": [
    "predict_nlp[:5]"
   ]
  },
  {
   "cell_type": "code",
   "execution_count": 61,
   "id": "3116c040",
   "metadata": {},
   "outputs": [
    {
     "data": {
      "text/plain": [
       "145207    1\n",
       "39943     0\n",
       "74181     0\n",
       "99827     1\n",
       "87946     1\n",
       "Name: Sentiment, dtype: int64"
      ]
     },
     "execution_count": 61,
     "metadata": {},
     "output_type": "execute_result"
    }
   ],
   "source": [
    "y_test[:5]"
   ]
  },
  {
   "cell_type": "code",
   "execution_count": 62,
   "id": "cb43f883",
   "metadata": {},
   "outputs": [
    {
     "name": "stdout",
     "output_type": "stream",
     "text": [
      "Classification report: \n",
      "               precision    recall  f1-score   support\n",
      "\n",
      "           0       0.88      0.42      0.57     20502\n",
      "           1       0.62      0.95      0.75     20502\n",
      "\n",
      "    accuracy                           0.68     41004\n",
      "   macro avg       0.75      0.68      0.66     41004\n",
      "weighted avg       0.75      0.68      0.66     41004\n",
      "\n"
     ]
    }
   ],
   "source": [
    "print('Classification report: \\n',classification_report(y_test,predict_nlp))"
   ]
  },
  {
   "cell_type": "markdown",
   "id": "40a4ca05",
   "metadata": {},
   "source": [
    "## The overall accuracy of the model has reduced but the precision, recall and f1-scores of the model have slightly increased. \n",
    "## Now let us try to use Neural Networks to try to do the sentiment analysis"
   ]
  },
  {
   "cell_type": "code",
   "execution_count": null,
   "id": "7b09a0c4",
   "metadata": {},
   "outputs": [],
   "source": []
  },
  {
   "cell_type": "markdown",
   "id": "05788423",
   "metadata": {},
   "source": [
    "# 9. Creating Neural network for the Sentiment Analysis"
   ]
  },
  {
   "cell_type": "code",
   "execution_count": 64,
   "id": "d8d6e511",
   "metadata": {},
   "outputs": [],
   "source": [
    "df1 = x_rus"
   ]
  },
  {
   "cell_type": "code",
   "execution_count": 63,
   "id": "7363e8f1",
   "metadata": {},
   "outputs": [],
   "source": [
    "# creating a function to remove all unnecessary characters from the text\n",
    "\n",
    "def clean_text(df, field):\n",
    "    df[field] = df[field].str.replace(r'@',' at ')\n",
    "    df[field] = df[field].str.replace('#[^a-zA-Z0-9_]+',' ')\n",
    "    df[field] = df[field].str.replace(r\"[^a-zA-Z(),\\\"'\\n_]\",\" \")\n",
    "    df[field] = df[field].str.replace(r'http\\S+','')\n",
    "    df[field] = df[field].str.lower()\n",
    "    return df"
   ]
  },
  {
   "cell_type": "code",
   "execution_count": 65,
   "id": "3fc860c9",
   "metadata": {},
   "outputs": [
    {
     "name": "stderr",
     "output_type": "stream",
     "text": [
      "C:\\Users\\Anshavik\\AppData\\Local\\Temp/ipykernel_16400/4099916899.py:5: FutureWarning: The default value of regex will change from True to False in a future version.\n",
      "  df[field] = df[field].str.replace('#[^a-zA-Z0-9_]+',' ')\n",
      "C:\\Users\\Anshavik\\AppData\\Local\\Temp/ipykernel_16400/4099916899.py:6: FutureWarning: The default value of regex will change from True to False in a future version.\n",
      "  df[field] = df[field].str.replace(r\"[^a-zA-Z(),\\\"'\\n_]\",\" \")\n",
      "C:\\Users\\Anshavik\\AppData\\Local\\Temp/ipykernel_16400/4099916899.py:7: FutureWarning: The default value of regex will change from True to False in a future version.\n",
      "  df[field] = df[field].str.replace(r'http\\S+','')\n"
     ]
    },
    {
     "data": {
      "text/html": [
       "<div>\n",
       "<style scoped>\n",
       "    .dataframe tbody tr th:only-of-type {\n",
       "        vertical-align: middle;\n",
       "    }\n",
       "\n",
       "    .dataframe tbody tr th {\n",
       "        vertical-align: top;\n",
       "    }\n",
       "\n",
       "    .dataframe thead th {\n",
       "        text-align: right;\n",
       "    }\n",
       "</style>\n",
       "<table border=\"1\" class=\"dataframe\">\n",
       "  <thead>\n",
       "    <tr style=\"text-align: right;\">\n",
       "      <th></th>\n",
       "      <th>Review</th>\n",
       "      <th>Id</th>\n",
       "    </tr>\n",
       "  </thead>\n",
       "  <tbody>\n",
       "    <tr>\n",
       "      <th>0</th>\n",
       "      <td>product arrived labeled as jumbo salted peanut...</td>\n",
       "      <td>2</td>\n",
       "    </tr>\n",
       "    <tr>\n",
       "      <th>1</th>\n",
       "      <td>if you are looking for the secret ingredient i...</td>\n",
       "      <td>4</td>\n",
       "    </tr>\n",
       "    <tr>\n",
       "      <th>2</th>\n",
       "      <td>my cats have been happily eating felidae plati...</td>\n",
       "      <td>13</td>\n",
       "    </tr>\n",
       "    <tr>\n",
       "      <th>3</th>\n",
       "      <td>i love eating them and they are good for watch...</td>\n",
       "      <td>17</td>\n",
       "    </tr>\n",
       "    <tr>\n",
       "      <th>4</th>\n",
       "      <td>the candy is just red , no flavor   just  plan...</td>\n",
       "      <td>27</td>\n",
       "    </tr>\n",
       "    <tr>\n",
       "      <th>...</th>\n",
       "      <td>...</td>\n",
       "      <td>...</td>\n",
       "    </tr>\n",
       "    <tr>\n",
       "      <th>164009</th>\n",
       "      <td>i like these ok   they are convenient and tast...</td>\n",
       "      <td>465231</td>\n",
       "    </tr>\n",
       "    <tr>\n",
       "      <th>164010</th>\n",
       "      <td>i wish to correct my review of the on line can...</td>\n",
       "      <td>310767</td>\n",
       "    </tr>\n",
       "    <tr>\n",
       "      <th>164011</th>\n",
       "      <td>most reviewers seem to agree the quality of th...</td>\n",
       "      <td>461139</td>\n",
       "    </tr>\n",
       "    <tr>\n",
       "      <th>164012</th>\n",
       "      <td>my dog loves, loves  this dog food i had to sa...</td>\n",
       "      <td>402933</td>\n",
       "    </tr>\n",
       "    <tr>\n",
       "      <th>164013</th>\n",
       "      <td>this is by far the best kibble for cats availa...</td>\n",
       "      <td>91659</td>\n",
       "    </tr>\n",
       "  </tbody>\n",
       "</table>\n",
       "<p>164014 rows × 2 columns</p>\n",
       "</div>"
      ],
      "text/plain": [
       "                                                   Review      Id\n",
       "0       product arrived labeled as jumbo salted peanut...       2\n",
       "1       if you are looking for the secret ingredient i...       4\n",
       "2       my cats have been happily eating felidae plati...      13\n",
       "3       i love eating them and they are good for watch...      17\n",
       "4       the candy is just red , no flavor   just  plan...      27\n",
       "...                                                   ...     ...\n",
       "164009  i like these ok   they are convenient and tast...  465231\n",
       "164010  i wish to correct my review of the on line can...  310767\n",
       "164011  most reviewers seem to agree the quality of th...  461139\n",
       "164012  my dog loves, loves  this dog food i had to sa...  402933\n",
       "164013  this is by far the best kibble for cats availa...   91659\n",
       "\n",
       "[164014 rows x 2 columns]"
      ]
     },
     "execution_count": 65,
     "metadata": {},
     "output_type": "execute_result"
    }
   ],
   "source": [
    "# applying the function to clean training dataset\n",
    "clean_text(df1,'Review')"
   ]
  },
  {
   "cell_type": "code",
   "execution_count": 66,
   "id": "cf1b40f8",
   "metadata": {},
   "outputs": [],
   "source": [
    "# Importing the nltk related libraries for applying nlp related tasks\n",
    "import nltk\n",
    "import re\n",
    "from nltk.stem.wordnet import WordNetLemmatizer\n",
    "from nltk import word_tokenize\n",
    "from nltk.corpus import stopwords\n",
    "stop_words = set(stopwords.words('english'))"
   ]
  },
  {
   "cell_type": "code",
   "execution_count": 67,
   "id": "5d147436",
   "metadata": {},
   "outputs": [],
   "source": [
    "lemmatizer = WordNetLemmatizer()\n",
    "\n",
    "# creating a function to remove punctuations\n",
    "\n",
    "def remove_punctuations(data):\n",
    "    punct_tag = re.compile(r'[^\\w\\s]')\n",
    "    data = punct_tag.sub(r'', data)\n",
    "    return data"
   ]
  },
  {
   "cell_type": "code",
   "execution_count": 68,
   "id": "364f0c63",
   "metadata": {},
   "outputs": [],
   "source": [
    "# creating a function to remove HTML syntaxes\n",
    "def remove_html(data):\n",
    "    html_tag = re.compile(r'<.*?>')\n",
    "    data = html_tag.sub(r'',data)\n",
    "    return data\n"
   ]
  },
  {
   "cell_type": "code",
   "execution_count": 69,
   "id": "b419048b",
   "metadata": {},
   "outputs": [],
   "source": [
    "# creating a function to remove url data\n",
    "def remove_url(data):\n",
    "    url_clean = re.compile(r\"https://\\S+|www\\. \\S+\")\n",
    "    data = url_clean.sub(r'',data)\n",
    "    return data"
   ]
  },
  {
   "cell_type": "code",
   "execution_count": 70,
   "id": "012358a3",
   "metadata": {},
   "outputs": [],
   "source": [
    "# function to remove emojis data\n",
    "def remove_emoji(data):\n",
    "    emoji_clean = re.compile(\"[\" \n",
    "                             u\"\\U0001F600-\\U0001F64F\"  # emoticons\n",
    "                             u\"\\U0001F300-\\U0001F5FF\"  # symbols & pictographs\n",
    "                             u\"\\U0001F680-\\U0001F6FF\"  # transport & map symbols\n",
    "                             u\"\\U0001F1E0-\\U0001F1FF\"  # flags (iOS)\n",
    "                             u\"\\U00002702-\\U000027B0\" \n",
    "                             u\"\\U000024C2-\\U0001F251\"\n",
    "                             \"]+\",flags=re.UNICODE)\n",
    "    data = emoji_clean.sub(r'',data)\n",
    "    url_clean = re.compile(r\"https://|S+|www\\. \\S+\")\n",
    "    data = url_clean.sub(r'',data)\n",
    "    return data"
   ]
  },
  {
   "cell_type": "code",
   "execution_count": 71,
   "id": "8343ad7d",
   "metadata": {},
   "outputs": [],
   "source": [
    "# applying the above functions to train data\n",
    "\n",
    "df1['review_clean'] = df1['Review'].apply(lambda x: remove_punctuations(x))"
   ]
  },
  {
   "cell_type": "code",
   "execution_count": 72,
   "id": "229dddd2",
   "metadata": {},
   "outputs": [],
   "source": [
    "df1['row_num'] = list(df1.index)\n"
   ]
  },
  {
   "cell_type": "code",
   "execution_count": 73,
   "id": "094d5877",
   "metadata": {},
   "outputs": [],
   "source": [
    "# function to Lemmatize the data\n",
    "\n",
    "#def lemmatize_text(data):\n",
    " #   count = data['row_num']\n",
    "  #  print(f\" Count -> {count}\")\n",
    "  #  out_data = \"\"\n",
    "  #  for words in data['text_clean']:\n",
    "  #      out_data+= lemmatizer.lemmatize(words)\n",
    "  #     # count =\"\"\n",
    "        \n",
    "  #  return out_data\n",
    "\n",
    "\n",
    "def lemmatize_text(data):\n",
    "    index = data['row_num']\n",
    "    out_data=\"\"\n",
    "    if index%50000==0:\n",
    "        print(f\"The progress is {index}\")\n",
    "    \n",
    "    for words in data['review_clean_sw']:\n",
    "        \n",
    "        out_data+= lemmatizer.lemmatize(words)\n",
    "        \n",
    "        \n",
    "    return out_data\n"
   ]
  },
  {
   "cell_type": "code",
   "execution_count": 74,
   "id": "43a1c399",
   "metadata": {},
   "outputs": [
    {
     "data": {
      "text/html": [
       "<div>\n",
       "<style scoped>\n",
       "    .dataframe tbody tr th:only-of-type {\n",
       "        vertical-align: middle;\n",
       "    }\n",
       "\n",
       "    .dataframe tbody tr th {\n",
       "        vertical-align: top;\n",
       "    }\n",
       "\n",
       "    .dataframe thead th {\n",
       "        text-align: right;\n",
       "    }\n",
       "</style>\n",
       "<table border=\"1\" class=\"dataframe\">\n",
       "  <thead>\n",
       "    <tr style=\"text-align: right;\">\n",
       "      <th></th>\n",
       "      <th>Review</th>\n",
       "      <th>Id</th>\n",
       "      <th>review_clean</th>\n",
       "      <th>row_num</th>\n",
       "    </tr>\n",
       "  </thead>\n",
       "  <tbody>\n",
       "    <tr>\n",
       "      <th>0</th>\n",
       "      <td>product arrived labeled as jumbo salted peanut...</td>\n",
       "      <td>2</td>\n",
       "      <td>product arrived labeled as jumbo salted peanut...</td>\n",
       "      <td>0</td>\n",
       "    </tr>\n",
       "  </tbody>\n",
       "</table>\n",
       "</div>"
      ],
      "text/plain": [
       "                                              Review  Id  \\\n",
       "0  product arrived labeled as jumbo salted peanut...   2   \n",
       "\n",
       "                                        review_clean  row_num  \n",
       "0  product arrived labeled as jumbo salted peanut...        0  "
      ]
     },
     "execution_count": 74,
     "metadata": {},
     "output_type": "execute_result"
    }
   ],
   "source": [
    "df1.head(1)"
   ]
  },
  {
   "cell_type": "code",
   "execution_count": 75,
   "id": "1a22babb",
   "metadata": {},
   "outputs": [],
   "source": [
    "stop = stopwords.words('english')"
   ]
  },
  {
   "cell_type": "code",
   "execution_count": 76,
   "id": "a07dd9a8",
   "metadata": {},
   "outputs": [],
   "source": [
    "df1['review_clean_sw'] = df1['review_clean'].apply(lambda x: ' '.join([word for word in x.split() if word not in (stop)]))"
   ]
  },
  {
   "cell_type": "code",
   "execution_count": 78,
   "id": "331c32df",
   "metadata": {},
   "outputs": [
    {
     "data": {
      "text/html": [
       "<div>\n",
       "<style scoped>\n",
       "    .dataframe tbody tr th:only-of-type {\n",
       "        vertical-align: middle;\n",
       "    }\n",
       "\n",
       "    .dataframe tbody tr th {\n",
       "        vertical-align: top;\n",
       "    }\n",
       "\n",
       "    .dataframe thead th {\n",
       "        text-align: right;\n",
       "    }\n",
       "</style>\n",
       "<table border=\"1\" class=\"dataframe\">\n",
       "  <thead>\n",
       "    <tr style=\"text-align: right;\">\n",
       "      <th></th>\n",
       "      <th>Review</th>\n",
       "      <th>Id</th>\n",
       "      <th>review_clean</th>\n",
       "      <th>row_num</th>\n",
       "      <th>review_clean_sw</th>\n",
       "    </tr>\n",
       "  </thead>\n",
       "  <tbody>\n",
       "    <tr>\n",
       "      <th>0</th>\n",
       "      <td>product arrived labeled as jumbo salted peanut...</td>\n",
       "      <td>2</td>\n",
       "      <td>product arrived labeled as jumbo salted peanut...</td>\n",
       "      <td>0</td>\n",
       "      <td>product arrived labeled jumbo salted peanuts p...</td>\n",
       "    </tr>\n",
       "    <tr>\n",
       "      <th>1</th>\n",
       "      <td>if you are looking for the secret ingredient i...</td>\n",
       "      <td>4</td>\n",
       "      <td>if you are looking for the secret ingredient i...</td>\n",
       "      <td>1</td>\n",
       "      <td>looking secret ingredient robitussin believe f...</td>\n",
       "    </tr>\n",
       "    <tr>\n",
       "      <th>2</th>\n",
       "      <td>my cats have been happily eating felidae plati...</td>\n",
       "      <td>13</td>\n",
       "      <td>my cats have been happily eating felidae plati...</td>\n",
       "      <td>2</td>\n",
       "      <td>cats happily eating felidae platinum two years...</td>\n",
       "    </tr>\n",
       "    <tr>\n",
       "      <th>3</th>\n",
       "      <td>i love eating them and they are good for watch...</td>\n",
       "      <td>17</td>\n",
       "      <td>i love eating them and they are good for watch...</td>\n",
       "      <td>3</td>\n",
       "      <td>love eating good watching tv looking movies sw...</td>\n",
       "    </tr>\n",
       "    <tr>\n",
       "      <th>4</th>\n",
       "      <td>the candy is just red , no flavor   just  plan...</td>\n",
       "      <td>27</td>\n",
       "      <td>the candy is just red  no flavor   just  plan ...</td>\n",
       "      <td>4</td>\n",
       "      <td>candy red flavor plan chewy would never buy</td>\n",
       "    </tr>\n",
       "  </tbody>\n",
       "</table>\n",
       "</div>"
      ],
      "text/plain": [
       "                                              Review  Id  \\\n",
       "0  product arrived labeled as jumbo salted peanut...   2   \n",
       "1  if you are looking for the secret ingredient i...   4   \n",
       "2  my cats have been happily eating felidae plati...  13   \n",
       "3  i love eating them and they are good for watch...  17   \n",
       "4  the candy is just red , no flavor   just  plan...  27   \n",
       "\n",
       "                                        review_clean  row_num  \\\n",
       "0  product arrived labeled as jumbo salted peanut...        0   \n",
       "1  if you are looking for the secret ingredient i...        1   \n",
       "2  my cats have been happily eating felidae plati...        2   \n",
       "3  i love eating them and they are good for watch...        3   \n",
       "4  the candy is just red  no flavor   just  plan ...        4   \n",
       "\n",
       "                                     review_clean_sw  \n",
       "0  product arrived labeled jumbo salted peanuts p...  \n",
       "1  looking secret ingredient robitussin believe f...  \n",
       "2  cats happily eating felidae platinum two years...  \n",
       "3  love eating good watching tv looking movies sw...  \n",
       "4        candy red flavor plan chewy would never buy  "
      ]
     },
     "execution_count": 78,
     "metadata": {},
     "output_type": "execute_result"
    }
   ],
   "source": [
    "df1.head()"
   ]
  },
  {
   "cell_type": "code",
   "execution_count": 80,
   "id": "f87be131",
   "metadata": {},
   "outputs": [
    {
     "name": "stdout",
     "output_type": "stream",
     "text": [
      "The progress is 0\n",
      "The progress is 50000\n",
      "The progress is 100000\n",
      "The progress is 150000\n"
     ]
    }
   ],
   "source": [
    "df2 = df1.apply(lemmatize_text, axis=1)"
   ]
  },
  {
   "cell_type": "code",
   "execution_count": 81,
   "id": "47f8d1b5",
   "metadata": {},
   "outputs": [],
   "source": [
    "# Since lemmatizing the training dataset has been taking a lot of time. \n",
    "# I have written the lemmatized version of the training dataset into a csv file\n",
    "\n",
    "df2.to_csv('lemmatized_df1_dataset.csv')"
   ]
  },
  {
   "cell_type": "code",
   "execution_count": 89,
   "id": "edc17366",
   "metadata": {},
   "outputs": [],
   "source": [
    "df1['review_clean_sw'] = df2"
   ]
  },
  {
   "cell_type": "code",
   "execution_count": 90,
   "id": "6b31e36c",
   "metadata": {},
   "outputs": [
    {
     "data": {
      "text/html": [
       "<div>\n",
       "<style scoped>\n",
       "    .dataframe tbody tr th:only-of-type {\n",
       "        vertical-align: middle;\n",
       "    }\n",
       "\n",
       "    .dataframe tbody tr th {\n",
       "        vertical-align: top;\n",
       "    }\n",
       "\n",
       "    .dataframe thead th {\n",
       "        text-align: right;\n",
       "    }\n",
       "</style>\n",
       "<table border=\"1\" class=\"dataframe\">\n",
       "  <thead>\n",
       "    <tr style=\"text-align: right;\">\n",
       "      <th></th>\n",
       "      <th>Review</th>\n",
       "      <th>Id</th>\n",
       "      <th>review_clean</th>\n",
       "      <th>row_num</th>\n",
       "      <th>review_clean_sw</th>\n",
       "    </tr>\n",
       "  </thead>\n",
       "  <tbody>\n",
       "    <tr>\n",
       "      <th>0</th>\n",
       "      <td>product arrived labeled as jumbo salted peanut...</td>\n",
       "      <td>2</td>\n",
       "      <td>product arrived labeled as jumbo salted peanut...</td>\n",
       "      <td>0</td>\n",
       "      <td>product arrived labeled jumbo salted peanuts p...</td>\n",
       "    </tr>\n",
       "    <tr>\n",
       "      <th>1</th>\n",
       "      <td>if you are looking for the secret ingredient i...</td>\n",
       "      <td>4</td>\n",
       "      <td>if you are looking for the secret ingredient i...</td>\n",
       "      <td>1</td>\n",
       "      <td>looking secret ingredient robitussin believe f...</td>\n",
       "    </tr>\n",
       "    <tr>\n",
       "      <th>2</th>\n",
       "      <td>my cats have been happily eating felidae plati...</td>\n",
       "      <td>13</td>\n",
       "      <td>my cats have been happily eating felidae plati...</td>\n",
       "      <td>2</td>\n",
       "      <td>cats happily eating felidae platinum two years...</td>\n",
       "    </tr>\n",
       "    <tr>\n",
       "      <th>3</th>\n",
       "      <td>i love eating them and they are good for watch...</td>\n",
       "      <td>17</td>\n",
       "      <td>i love eating them and they are good for watch...</td>\n",
       "      <td>3</td>\n",
       "      <td>love eating good watching tv looking movies sw...</td>\n",
       "    </tr>\n",
       "    <tr>\n",
       "      <th>4</th>\n",
       "      <td>the candy is just red , no flavor   just  plan...</td>\n",
       "      <td>27</td>\n",
       "      <td>the candy is just red  no flavor   just  plan ...</td>\n",
       "      <td>4</td>\n",
       "      <td>candy red flavor plan chewy would never buy</td>\n",
       "    </tr>\n",
       "  </tbody>\n",
       "</table>\n",
       "</div>"
      ],
      "text/plain": [
       "                                              Review  Id  \\\n",
       "0  product arrived labeled as jumbo salted peanut...   2   \n",
       "1  if you are looking for the secret ingredient i...   4   \n",
       "2  my cats have been happily eating felidae plati...  13   \n",
       "3  i love eating them and they are good for watch...  17   \n",
       "4  the candy is just red , no flavor   just  plan...  27   \n",
       "\n",
       "                                        review_clean  row_num  \\\n",
       "0  product arrived labeled as jumbo salted peanut...        0   \n",
       "1  if you are looking for the secret ingredient i...        1   \n",
       "2  my cats have been happily eating felidae plati...        2   \n",
       "3  i love eating them and they are good for watch...        3   \n",
       "4  the candy is just red  no flavor   just  plan ...        4   \n",
       "\n",
       "                                     review_clean_sw  \n",
       "0  product arrived labeled jumbo salted peanuts p...  \n",
       "1  looking secret ingredient robitussin believe f...  \n",
       "2  cats happily eating felidae platinum two years...  \n",
       "3  love eating good watching tv looking movies sw...  \n",
       "4        candy red flavor plan chewy would never buy  "
      ]
     },
     "execution_count": 90,
     "metadata": {},
     "output_type": "execute_result"
    }
   ],
   "source": [
    "df1.head()"
   ]
  },
  {
   "cell_type": "code",
   "execution_count": 92,
   "id": "a7b2fa7b",
   "metadata": {},
   "outputs": [],
   "source": [
    "X = df1.drop(['Review','Id','review_clean','row_num'],axis=1)\n",
    "y = y_rus"
   ]
  },
  {
   "cell_type": "code",
   "execution_count": 93,
   "id": "68c91f26",
   "metadata": {},
   "outputs": [
    {
     "name": "stdout",
     "output_type": "stream",
     "text": [
      "<class 'pandas.core.frame.DataFrame'>\n",
      "RangeIndex: 164014 entries, 0 to 164013\n",
      "Data columns (total 1 columns):\n",
      " #   Column           Non-Null Count   Dtype \n",
      "---  ------           --------------   ----- \n",
      " 0   review_clean_sw  164014 non-null  object\n",
      "dtypes: object(1)\n",
      "memory usage: 1.3+ MB\n"
     ]
    }
   ],
   "source": [
    "X.info()"
   ]
  },
  {
   "cell_type": "code",
   "execution_count": 94,
   "id": "b9be694d",
   "metadata": {},
   "outputs": [
    {
     "ename": "AttributeError",
     "evalue": "'Series' object has no attribute 'info'",
     "output_type": "error",
     "traceback": [
      "\u001b[1;31m---------------------------------------------------------------------------\u001b[0m",
      "\u001b[1;31mAttributeError\u001b[0m                            Traceback (most recent call last)",
      "\u001b[1;32m~\\AppData\\Local\\Temp/ipykernel_16400/512419577.py\u001b[0m in \u001b[0;36m<module>\u001b[1;34m\u001b[0m\n\u001b[1;32m----> 1\u001b[1;33m \u001b[0my\u001b[0m\u001b[1;33m.\u001b[0m\u001b[0minfo\u001b[0m\u001b[1;33m(\u001b[0m\u001b[1;33m)\u001b[0m\u001b[1;33m\u001b[0m\u001b[1;33m\u001b[0m\u001b[0m\n\u001b[0m",
      "\u001b[1;32m~\\anaconda3\\lib\\site-packages\\pandas\\core\\generic.py\u001b[0m in \u001b[0;36m__getattr__\u001b[1;34m(self, name)\u001b[0m\n\u001b[0;32m   5485\u001b[0m         ):\n\u001b[0;32m   5486\u001b[0m             \u001b[1;32mreturn\u001b[0m \u001b[0mself\u001b[0m\u001b[1;33m[\u001b[0m\u001b[0mname\u001b[0m\u001b[1;33m]\u001b[0m\u001b[1;33m\u001b[0m\u001b[1;33m\u001b[0m\u001b[0m\n\u001b[1;32m-> 5487\u001b[1;33m         \u001b[1;32mreturn\u001b[0m \u001b[0mobject\u001b[0m\u001b[1;33m.\u001b[0m\u001b[0m__getattribute__\u001b[0m\u001b[1;33m(\u001b[0m\u001b[0mself\u001b[0m\u001b[1;33m,\u001b[0m \u001b[0mname\u001b[0m\u001b[1;33m)\u001b[0m\u001b[1;33m\u001b[0m\u001b[1;33m\u001b[0m\u001b[0m\n\u001b[0m\u001b[0;32m   5488\u001b[0m \u001b[1;33m\u001b[0m\u001b[0m\n\u001b[0;32m   5489\u001b[0m     \u001b[1;32mdef\u001b[0m \u001b[0m__setattr__\u001b[0m\u001b[1;33m(\u001b[0m\u001b[0mself\u001b[0m\u001b[1;33m,\u001b[0m \u001b[0mname\u001b[0m\u001b[1;33m:\u001b[0m \u001b[0mstr\u001b[0m\u001b[1;33m,\u001b[0m \u001b[0mvalue\u001b[0m\u001b[1;33m)\u001b[0m \u001b[1;33m->\u001b[0m \u001b[1;32mNone\u001b[0m\u001b[1;33m:\u001b[0m\u001b[1;33m\u001b[0m\u001b[1;33m\u001b[0m\u001b[0m\n",
      "\u001b[1;31mAttributeError\u001b[0m: 'Series' object has no attribute 'info'"
     ]
    }
   ],
   "source": [
    "y.info()"
   ]
  },
  {
   "cell_type": "code",
   "execution_count": 95,
   "id": "e2f13a79",
   "metadata": {},
   "outputs": [],
   "source": [
    "from sklearn.model_selection import train_test_split\n",
    "X_train, X_test, y_train, y_test = train_test_split(X,y,test_size=0.3,random_state=0,stratify=y)"
   ]
  },
  {
   "cell_type": "code",
   "execution_count": 96,
   "id": "14036098",
   "metadata": {},
   "outputs": [
    {
     "name": "stdout",
     "output_type": "stream",
     "text": [
      "(114809, 1)\n",
      "(49205, 1)\n",
      "(114809,)\n",
      "(49205,)\n"
     ]
    }
   ],
   "source": [
    "print(X_train.shape)\n",
    "print(X_test.shape)\n",
    "print(y_train.shape)\n",
    "print(y_test.shape)"
   ]
  },
  {
   "cell_type": "code",
   "execution_count": 97,
   "id": "e9e904bb",
   "metadata": {},
   "outputs": [
    {
     "data": {
      "text/plain": [
       "1    57405\n",
       "0    57404\n",
       "Name: Sentiment, dtype: int64"
      ]
     },
     "execution_count": 97,
     "metadata": {},
     "output_type": "execute_result"
    }
   ],
   "source": [
    "y_train.value_counts()"
   ]
  },
  {
   "cell_type": "code",
   "execution_count": 98,
   "id": "16852780",
   "metadata": {},
   "outputs": [
    {
     "data": {
      "text/plain": [
       "0    24603\n",
       "1    24602\n",
       "Name: Sentiment, dtype: int64"
      ]
     },
     "execution_count": 98,
     "metadata": {},
     "output_type": "execute_result"
    }
   ],
   "source": [
    "y_test.value_counts()"
   ]
  },
  {
   "cell_type": "code",
   "execution_count": 99,
   "id": "5ee2e723",
   "metadata": {},
   "outputs": [],
   "source": [
    "# Calculating the vocab size\n",
    "def get_vocab_size(self, namespace='words'):\n",
    "    return len(self.word_indices[namespace])"
   ]
  },
  {
   "cell_type": "code",
   "execution_count": 100,
   "id": "8050bee3",
   "metadata": {},
   "outputs": [],
   "source": [
    "from keras.preprocessing.text import Tokenizer\n",
    "from keras.preprocessing.sequence import pad_sequences\n"
   ]
  },
  {
   "cell_type": "code",
   "execution_count": 102,
   "id": "3406cdd8",
   "metadata": {},
   "outputs": [
    {
     "name": "stdout",
     "output_type": "stream",
     "text": [
      "59315\n"
     ]
    }
   ],
   "source": [
    "vocab_size = 8000\n",
    "embedding_dim = 32\n",
    "max_length = 100\n",
    "tokenizer = Tokenizer(vocab_size)\n",
    "tokenizer.fit_on_texts(X_train['review_clean_sw'])\n",
    "word_index = tokenizer.word_index\n",
    "V = len(word_index)\n",
    "print(V)"
   ]
  },
  {
   "cell_type": "code",
   "execution_count": 103,
   "id": "4747747a",
   "metadata": {},
   "outputs": [],
   "source": [
    "# using tokenizer to transform text messages into training and testing set\n",
    "X_train_seq = tokenizer.texts_to_sequences(X_train['review_clean_sw'])\n",
    "X_test_seq = tokenizer.texts_to_sequences(X_test['review_clean_sw'])"
   ]
  },
  {
   "cell_type": "code",
   "execution_count": 104,
   "id": "0b9a584c",
   "metadata": {},
   "outputs": [],
   "source": [
    "X_train_seq_padded = pad_sequences(X_train_seq, maxlen=max_length, padding='pre',truncating='pre')\n",
    "X_test_seq_padded = pad_sequences(X_test_seq, maxlen = max_length, padding='pre',truncating='pre')\n",
    "\n"
   ]
  },
  {
   "cell_type": "code",
   "execution_count": 105,
   "id": "157b22ec",
   "metadata": {},
   "outputs": [
    {
     "name": "stdout",
     "output_type": "stream",
     "text": [
      "train padded (114809, 100)\n",
      "test padded (49205, 100)\n"
     ]
    }
   ],
   "source": [
    "print('train padded',X_train_seq_padded.shape)\n",
    "print('test padded',X_test_seq_padded.shape)"
   ]
  },
  {
   "cell_type": "code",
   "execution_count": 106,
   "id": "8124e5fd",
   "metadata": {},
   "outputs": [
    {
     "data": {
      "text/plain": [
       "array([   0,    0,    0,    0,    0,    0,    0,    0,    0,    0,    0,\n",
       "          0,    0,    0,    0,    0,    0,    0,    0,    0,    0,    0,\n",
       "          0,    0,    0,    0,    0,    0,    0,    0,    0,    0,    0,\n",
       "          0,    0,    0,    0,    0,    0,    0,    0,    0,    0,    0,\n",
       "          0,    0,    0,    0,    0,    0,    0,    0,    0,    0,    0,\n",
       "          0,    0,    0,    0,    0,    0,    0,    0,    0,    0,    0,\n",
       "          0,    0,    0,    0,    0,    0,    0,    0,    0,    0,    0,\n",
       "          0,    0,    0,    0,    0,    0,    0,    0,    0, 2352,    1,\n",
       "          1,  932, 2058, 1823,    1,    1,  139,  570, 2534,  409,  315,\n",
       "         32])"
      ]
     },
     "execution_count": 106,
     "metadata": {},
     "output_type": "execute_result"
    }
   ],
   "source": [
    "X_train_seq_padded[0]"
   ]
  },
  {
   "cell_type": "code",
   "execution_count": 107,
   "id": "e50235fe",
   "metadata": {},
   "outputs": [
    {
     "name": "stdout",
     "output_type": "stream",
     "text": [
      "Model: \"sequential\"\n",
      "_________________________________________________________________\n",
      " Layer (type)                Output Shape              Param #   \n",
      "=================================================================\n",
      " embedding (Embedding)       (None, 100, 32)           1898080   \n",
      "                                                                 \n",
      " simple_rnn (SimpleRNN)      (None, 32)                2080      \n",
      "                                                                 \n",
      " dense (Dense)               (None, 1)                 33        \n",
      "                                                                 \n",
      "=================================================================\n",
      "Total params: 1,900,193\n",
      "Trainable params: 1,900,193\n",
      "Non-trainable params: 0\n",
      "_________________________________________________________________\n"
     ]
    }
   ],
   "source": [
    "# Creating an RNN Network - with just 1 output in the outer layer\n",
    "import numpy as np\n",
    "import tensorflow as tf\n",
    "from tensorflow import keras\n",
    "from tensorflow.keras import layers\n",
    "\n",
    "model1 = keras.Sequential()\n",
    "model1.add(layers.Embedding(len(word_index),embedding_dim,input_length=max_length ))\n",
    "model1.add(layers.SimpleRNN(32))\n",
    "model1.add(layers.Dense(1,activation='sigmoid'))\n",
    "model1.summary()\n",
    "\n",
    "\n",
    "lr_schedule = tf.keras.optimizers.schedules.ExponentialDecay(\n",
    "    0.01,\n",
    "    decay_steps=10000,\n",
    "    decay_rate=0.95,\n",
    "    staircase=True\n",
    ")"
   ]
  },
  {
   "cell_type": "code",
   "execution_count": 108,
   "id": "71776130",
   "metadata": {},
   "outputs": [],
   "source": [
    "# Compiling the model\n",
    "model1.compile(loss='binary_crossentropy',optimizer='adam',metrics=['accuracy'])"
   ]
  },
  {
   "cell_type": "code",
   "execution_count": 109,
   "id": "0dbdcb91",
   "metadata": {},
   "outputs": [
    {
     "name": "stdout",
     "output_type": "stream",
     "text": [
      "Epoch 1/10\n",
      "3588/3588 [==============================] - 138s 38ms/step - loss: 0.3865 - accuracy: 0.8283\n",
      "Epoch 2/10\n",
      "3588/3588 [==============================] - 136s 38ms/step - loss: 0.2895 - accuracy: 0.8861\n",
      "Epoch 3/10\n",
      "3588/3588 [==============================] - 135s 38ms/step - loss: 0.2520 - accuracy: 0.9032\n",
      "Epoch 4/10\n",
      "3588/3588 [==============================] - 135s 38ms/step - loss: 0.2104 - accuracy: 0.9215\n",
      "Epoch 5/10\n",
      "3588/3588 [==============================] - 138s 38ms/step - loss: 0.1763 - accuracy: 0.9358\n",
      "Epoch 6/10\n",
      "3588/3588 [==============================] - 137s 38ms/step - loss: 0.1590 - accuracy: 0.9414\n",
      "Epoch 7/10\n",
      "3588/3588 [==============================] - 132s 37ms/step - loss: 0.1207 - accuracy: 0.9579\n",
      "Epoch 8/10\n",
      "3588/3588 [==============================] - 135s 38ms/step - loss: 0.1145 - accuracy: 0.9591\n",
      "Epoch 9/10\n",
      "3588/3588 [==============================] - 135s 38ms/step - loss: 0.0839 - accuracy: 0.9720\n",
      "Epoch 10/10\n",
      "3588/3588 [==============================] - 135s 38ms/step - loss: 0.0690 - accuracy: 0.9770\n"
     ]
    }
   ],
   "source": [
    "# Fitting the model\n",
    "history1 = model1.fit(X_train_seq_padded, y_train, batch_size=32,epochs=10)\n"
   ]
  },
  {
   "cell_type": "code",
   "execution_count": 110,
   "id": "afa8f847",
   "metadata": {},
   "outputs": [],
   "source": [
    "# Predicting using the model\n",
    "predict1 = model1.predict(X_test_seq_padded)"
   ]
  },
  {
   "cell_type": "code",
   "execution_count": 111,
   "id": "9a557dea",
   "metadata": {},
   "outputs": [
    {
     "name": "stdout",
     "output_type": "stream",
     "text": [
      "1538/1538 [==============================] - 11s 7ms/step - loss: 0.5248 - accuracy: 0.8696\n"
     ]
    },
    {
     "data": {
      "text/plain": [
       "[0.5248458981513977, 0.8696473836898804]"
      ]
     },
     "execution_count": 111,
     "metadata": {},
     "output_type": "execute_result"
    }
   ],
   "source": [
    "model1.evaluate(X_test_seq_padded, y_test)"
   ]
  },
  {
   "cell_type": "code",
   "execution_count": 112,
   "id": "ab43639c",
   "metadata": {},
   "outputs": [
    {
     "data": {
      "text/plain": [
       "array([[3.8144886e-03],\n",
       "       [9.5682698e-01],\n",
       "       [8.8348883e-01],\n",
       "       [9.9976963e-01],\n",
       "       [7.1827769e-03],\n",
       "       [9.8163950e-01],\n",
       "       [2.3451447e-04],\n",
       "       [9.9061936e-01],\n",
       "       [9.9991679e-01],\n",
       "       [9.7956288e-01]], dtype=float32)"
      ]
     },
     "execution_count": 112,
     "metadata": {},
     "output_type": "execute_result"
    }
   ],
   "source": [
    "predict1[:10]"
   ]
  },
  {
   "cell_type": "code",
   "execution_count": 113,
   "id": "47f9187b",
   "metadata": {},
   "outputs": [
    {
     "data": {
      "text/plain": [
       "41109     0\n",
       "10045     0\n",
       "139587    1\n",
       "114030    1\n",
       "101843    1\n",
       "152444    1\n",
       "50565     0\n",
       "135339    1\n",
       "158308    1\n",
       "149707    1\n",
       "Name: Sentiment, dtype: int64"
      ]
     },
     "execution_count": 113,
     "metadata": {},
     "output_type": "execute_result"
    }
   ],
   "source": [
    "y_test[:10]"
   ]
  },
  {
   "cell_type": "code",
   "execution_count": 114,
   "id": "d3b473f5",
   "metadata": {},
   "outputs": [],
   "source": [
    "#y_pred = ['0' if x < 0.5 else '1' for x in y_pred_prob]\n",
    "predict2_class = [0 if x<0.2 else 1 for x in predict1]        "
   ]
  },
  {
   "cell_type": "code",
   "execution_count": 115,
   "id": "bf54cca0",
   "metadata": {},
   "outputs": [
    {
     "data": {
      "text/plain": [
       "[0, 1, 1, 1, 0, 1, 0, 1, 1, 1]"
      ]
     },
     "execution_count": 115,
     "metadata": {},
     "output_type": "execute_result"
    }
   ],
   "source": [
    "predict2_class[:10]"
   ]
  },
  {
   "cell_type": "code",
   "execution_count": 122,
   "id": "d5cec4ad",
   "metadata": {},
   "outputs": [
    {
     "data": {
      "text/plain": [
       "151751    1\n",
       "Name: Sentiment, dtype: int64"
      ]
     },
     "execution_count": 122,
     "metadata": {},
     "output_type": "execute_result"
    }
   ],
   "source": [
    "y_test[10:11]"
   ]
  },
  {
   "cell_type": "code",
   "execution_count": 117,
   "id": "e0552b49",
   "metadata": {},
   "outputs": [
    {
     "data": {
      "text/plain": [
       "array([   0,    0,    0,    0,    0,    0,    0,    0,    0,    0,    0,\n",
       "          0,    0,    0,    0,    0,    0,    0,    0,    0,    0,    0,\n",
       "          0,    0,    0,    0,    0,    0,    0,    0,    0,    0,    0,\n",
       "          0,    0,    0,    0,    0,    0,    0,    0,    0,    0,    0,\n",
       "          0,    0,    0,    0,    0,    0,    0,    0,    0,    0,    0,\n",
       "          0,    0,    0,  138, 2469,  718,    3, 7559, 7304,  633,  416,\n",
       "       2979,   10, 1242,    3,   45,   32,   56,  433,  327,  762,  165,\n",
       "          1,    1, 2137,  148,  992,  671,  230,  421,  346, 5015,  110,\n",
       "        250,  835,  304,  250, 4190,  462,   37,    1,    1,  193,   20,\n",
       "         26])"
      ]
     },
     "execution_count": 117,
     "metadata": {},
     "output_type": "execute_result"
    }
   ],
   "source": [
    "X_test_seq_padded[10]"
   ]
  },
  {
   "cell_type": "code",
   "execution_count": 119,
   "id": "e931fb3d",
   "metadata": {},
   "outputs": [
    {
     "data": {
      "text/plain": [
       "'tea flavor whole brunch artifial flavors returnable wasted bucks'"
      ]
     },
     "execution_count": 119,
     "metadata": {},
     "output_type": "execute_result"
    }
   ],
   "source": [
    "X_test['review_clean_sw'][10]"
   ]
  },
  {
   "cell_type": "code",
   "execution_count": 123,
   "id": "961b4dd4",
   "metadata": {},
   "outputs": [
    {
     "data": {
      "text/plain": [
       "array([0.00174311], dtype=float32)"
      ]
     },
     "execution_count": 123,
     "metadata": {},
     "output_type": "execute_result"
    }
   ],
   "source": [
    "predict1[10]"
   ]
  },
  {
   "cell_type": "code",
   "execution_count": 124,
   "id": "92c126ff",
   "metadata": {},
   "outputs": [
    {
     "data": {
      "text/plain": [
       "41109     0\n",
       "10045     0\n",
       "139587    1\n",
       "114030    1\n",
       "101843    1\n",
       "152444    1\n",
       "50565     0\n",
       "135339    1\n",
       "158308    1\n",
       "149707    1\n",
       "Name: Sentiment, dtype: int64"
      ]
     },
     "execution_count": 124,
     "metadata": {},
     "output_type": "execute_result"
    }
   ],
   "source": [
    "y_test[:10]"
   ]
  },
  {
   "cell_type": "code",
   "execution_count": 125,
   "id": "4ea00d27",
   "metadata": {},
   "outputs": [
    {
     "name": "stdout",
     "output_type": "stream",
     "text": [
      "Classification report: \n",
      "               precision    recall  f1-score   support\n",
      "\n",
      "           0       0.90      0.81      0.85     24603\n",
      "           1       0.83      0.91      0.87     24602\n",
      "\n",
      "    accuracy                           0.86     49205\n",
      "   macro avg       0.86      0.86      0.86     49205\n",
      "weighted avg       0.86      0.86      0.86     49205\n",
      "\n"
     ]
    }
   ],
   "source": [
    "print('Classification report: \\n',classification_report(y_test,predict2_class))"
   ]
  },
  {
   "cell_type": "code",
   "execution_count": null,
   "id": "3a35bb05",
   "metadata": {},
   "outputs": [],
   "source": []
  },
  {
   "cell_type": "code",
   "execution_count": null,
   "id": "3f8e6af4",
   "metadata": {},
   "outputs": [],
   "source": [
    "# Conclusion: "
   ]
  },
  {
   "cell_type": "code",
   "execution_count": null,
   "id": "f82c8141",
   "metadata": {},
   "outputs": [],
   "source": []
  },
  {
   "cell_type": "code",
   "execution_count": null,
   "id": "6d794faf",
   "metadata": {},
   "outputs": [],
   "source": []
  },
  {
   "cell_type": "code",
   "execution_count": null,
   "id": "4db6284f",
   "metadata": {},
   "outputs": [],
   "source": []
  },
  {
   "cell_type": "code",
   "execution_count": null,
   "id": "c0fc207a",
   "metadata": {},
   "outputs": [],
   "source": []
  }
 ],
 "metadata": {
  "kernelspec": {
   "display_name": "Python 3 (ipykernel)",
   "language": "python",
   "name": "python3"
  },
  "language_info": {
   "codemirror_mode": {
    "name": "ipython",
    "version": 3
   },
   "file_extension": ".py",
   "mimetype": "text/x-python",
   "name": "python",
   "nbconvert_exporter": "python",
   "pygments_lexer": "ipython3",
   "version": "3.9.7"
  }
 },
 "nbformat": 4,
 "nbformat_minor": 5
}
